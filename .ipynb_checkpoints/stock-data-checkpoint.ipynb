{
 "cells": [
  {
   "cell_type": "code",
   "execution_count": 58,
   "id": "ae9636bc-e859-46e6-ba60-6c51dfd70613",
   "metadata": {},
   "outputs": [],
   "source": [
    "from datetime import datetime, timedelta\n",
    "import MetaTrader5 as mt5\n",
    "import pandas as pd\n",
    "import time"
   ]
  },
  {
   "cell_type": "code",
   "execution_count": 59,
   "id": "7725742f-285b-4dc9-b5c4-2407fa49f967",
   "metadata": {},
   "outputs": [
    {
     "data": {
      "text/plain": [
       "True"
      ]
     },
     "execution_count": 59,
     "metadata": {},
     "output_type": "execute_result"
    }
   ],
   "source": [
    "mt5.initialize()"
   ]
  },
  {
   "cell_type": "code",
   "execution_count": 60,
   "id": "9aac290a-4364-4313-86c9-e1e52e95de2e",
   "metadata": {},
   "outputs": [
    {
     "data": {
      "text/plain": [
       "True"
      ]
     },
     "execution_count": 60,
     "metadata": {},
     "output_type": "execute_result"
    }
   ],
   "source": [
    "login = 68166696\n",
    "password = \"Developper@1996\"\n",
    "server = \"RoboForex-Pro\"\n",
    "\n",
    "mt5.login(login, password, server)"
   ]
  },
  {
   "cell_type": "code",
   "execution_count": 61,
   "id": "78252b97-74f7-4f34-b706-74f3201d29cc",
   "metadata": {},
   "outputs": [],
   "source": [
    "symbol = \"XAUUSD\"\n",
    "timeframe = mt5.TIMEFRAME_M5"
   ]
  },
  {
   "cell_type": "code",
   "execution_count": 62,
   "id": "5eebee3c-2bed-4456-ba29-885f3c8b414e",
   "metadata": {},
   "outputs": [],
   "source": [
    "def calculate_date_from():\n",
    "    today = datetime.now()\n",
    "    return today - timedelta(days=2)"
   ]
  },
  {
   "cell_type": "code",
   "execution_count": 63,
   "id": "8ad8bb0d-283e-496d-b319-2c75d258b69c",
   "metadata": {},
   "outputs": [],
   "source": [
    "def fetch_data_range(start_date, end_date):\n",
    "    rates = pd.DataFrame(mt5.copy_rates_range(symbol, timeframe, start_date, end_date))\n",
    "    rates[\"time\"] = pd.to_datetime(rates[\"time\"], unit=\"s\")\n",
    "    return rates"
   ]
  },
  {
   "cell_type": "code",
   "execution_count": null,
   "id": "2c13b2ab-876b-46ee-88ca-9326152db4bf",
   "metadata": {},
   "outputs": [],
   "source": [
    "while True:\n",
    "    # Calculate the start date for the last two days\n",
    "    date_from = datetime(calculate_date_from().year, calculate_date_from().month, calculate_date_from().day)\n",
    "    \n",
    "    # Calculate the end date as the current date and time\n",
    "    date_to = datetime.now()\n",
    "    \n",
    "    # Fetch data for the last two days\n",
    "    latest_data = fetch_data_range(date_from, date_to)\n",
    "    \n",
    "    # Process the data or send it to the model for analysis\n",
    "    # ...\n",
    "    \n",
    "    # Display the latest data in the Jupyter Notebook\n",
    "    display(latest_data)\n",
    "    \n",
    "    # Wait for the next 5-minute interval\n",
    "    time.sleep(300)  # Wait for 5 minutes (300 seconds)"
   ]
  },
  {
   "cell_type": "code",
   "execution_count": null,
   "id": "944a424b-c0cc-4b5c-adb9-f6e72840135a",
   "metadata": {},
   "outputs": [],
   "source": []
  }
 ],
 "metadata": {
  "kernelspec": {
   "display_name": "Python 3 (ipykernel)",
   "language": "python",
   "name": "python3"
  },
  "language_info": {
   "codemirror_mode": {
    "name": "ipython",
    "version": 3
   },
   "file_extension": ".py",
   "mimetype": "text/x-python",
   "name": "python",
   "nbconvert_exporter": "python",
   "pygments_lexer": "ipython3",
   "version": "3.12.2"
  }
 },
 "nbformat": 4,
 "nbformat_minor": 5
}
